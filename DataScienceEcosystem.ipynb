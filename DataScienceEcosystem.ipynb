{
 "cells": [
  {
   "cell_type": "markdown",
   "id": "d46630cb",
   "metadata": {
    "tags": []
   },
   "source": [
    "# Data Science Ecosystem"
   ]
  },
  {
   "cell_type": "code",
   "execution_count": 22,
   "id": "ede584a3-b4bf-45ca-b1c8-0e76d1d39764",
   "metadata": {
    "tags": []
   },
   "outputs": [
    {
     "data": {
      "text/markdown": [
       "\n",
       "# Data Science Tools and Ecosystem\n"
      ],
      "text/plain": [
       "<IPython.core.display.Markdown object>"
      ]
     },
     "metadata": {},
     "output_type": "display_data"
    }
   ],
   "source": [
    "from IPython.display import display, Markdown\n",
    "title = \"\"\"\n",
    "# Data Science Tools and Ecosystem\n",
    "\"\"\"\n",
    "display(Markdown(title))"
   ]
  },
  {
   "cell_type": "code",
   "execution_count": 23,
   "id": "2e3ccbc7-8455-4564-9beb-00c2a73abffa",
   "metadata": {
    "tags": []
   },
   "outputs": [
    {
     "name": "stdout",
     "output_type": "stream",
     "text": [
      "\n",
      "# In this notebook, Data Science Tools and Ecosystem are summarized.\n",
      "\n"
     ]
    }
   ],
   "source": [
    "introduction =\"\"\"\n",
    "# In this notebook, Data Science Tools and Ecosystem are summarized.\n",
    "\"\"\"\n",
    "print(introduction)"
   ]
  },
  {
   "cell_type": "code",
   "execution_count": 24,
   "id": "216c9b87-203e-4372-8742-a76ae969b65f",
   "metadata": {
    "tags": []
   },
   "outputs": [
    {
     "data": {
      "text/markdown": [
       "\n",
       "# Data Science Languages\n",
       "\n",
       "1. Python\n",
       "2. R\n",
       "3. Julia\n",
       "4. SQL\n",
       "5. Scala\n"
      ],
      "text/plain": [
       "<IPython.core.display.Markdown object>"
      ]
     },
     "metadata": {},
     "output_type": "display_data"
    }
   ],
   "source": [
    "from IPython.display import display, Markdown\n",
    "languages = \"\"\"\n",
    "# Data Science Languages\n",
    "\n",
    "1. Python\n",
    "2. R\n",
    "3. Julia\n",
    "4. SQL\n",
    "5. Scala\n",
    "\"\"\"\n",
    "display(Markdown(languages))"
   ]
  },
  {
   "cell_type": "code",
   "execution_count": 25,
   "id": "939dc2d1-a04d-47f1-8ba9-4c6646ca567e",
   "metadata": {
    "tags": []
   },
   "outputs": [
    {
     "data": {
      "text/markdown": [
       "\n",
       "# Some of the commonly used libraries used by Data Scientists include:\n",
       "\n",
       "1. NumPy\n",
       "2. pandas\n",
       "3. Matplotlib\n",
       "4. scikit-learn\n",
       "5. TensorFlow\n",
       "6. PyTorch\n"
      ],
      "text/plain": [
       "<IPython.core.display.Markdown object>"
      ]
     },
     "metadata": {},
     "output_type": "display_data"
    }
   ],
   "source": [
    "from IPython.display import display, Markdown\n",
    "libraries = \"\"\"\n",
    "# Some of the commonly used libraries used by Data Scientists include:\n",
    "\n",
    "1. NumPy\n",
    "2. pandas\n",
    "3. Matplotlib\n",
    "4. scikit-learn\n",
    "5. TensorFlow\n",
    "6. PyTorch\n",
    "\"\"\"\n",
    "display(Markdown(libraries))"
   ]
  },
  {
   "cell_type": "code",
   "execution_count": 26,
   "id": "f6a08c42-b45c-486e-b785-3529fd683a78",
   "metadata": {
    "tags": []
   },
   "outputs": [
    {
     "data": {
      "text/markdown": [
       "\n",
       "| Data Science Tools |\n",
       "|---------------------|\n",
       "| Jupyter Notebook     |\n",
       "| RStudio             |\n",
       "| Apache Zeppelin      |\n"
      ],
      "text/plain": [
       "<IPython.core.display.Markdown object>"
      ]
     },
     "metadata": {},
     "output_type": "display_data"
    }
   ],
   "source": [
    "from IPython.display import display, Markdown\n",
    "data_science_tools = \"\"\"\n",
    "| Data Science Tools |\n",
    "|---------------------|\n",
    "| Jupyter Notebook     |\n",
    "| RStudio             |\n",
    "| Apache Zeppelin      |\n",
    "\"\"\"\n",
    "display(Markdown(data_science_tools))"
   ]
  },
  {
   "cell_type": "code",
   "execution_count": 27,
   "id": "1c53895f-451f-44d6-9bd0-99f7d5cc29c5",
   "metadata": {
    "tags": []
   },
   "outputs": [
    {
     "data": {
      "text/markdown": [
       "\n",
       "# Below are a few examples of evaluating arithmetic expressions in Python.\n",
       "\n",
       "| Expression | Result |\n",
       "|------------|--------|\n",
       "| 1 + 1      | 2      |\n",
       "| 5 - 1      | 4      |\n",
       "| 2 * 4      | 8      |\n",
       "| 10 / 2     | 5      |\n",
       "| 7 % 3      | 1      |\n",
       "| 9 // 2     | 4      |\n",
       "| 3 ** 2     | 9      |\n"
      ],
      "text/plain": [
       "<IPython.core.display.Markdown object>"
      ]
     },
     "metadata": {},
     "output_type": "display_data"
    }
   ],
   "source": [
    "from IPython.display import display, Markdown\n",
    "arithmetic_examples = \"\"\"\n",
    "# Below are a few examples of evaluating arithmetic expressions in Python.\n",
    "\n",
    "| Expression | Result |\n",
    "|------------|--------|\n",
    "| 1 + 1      | 2      |\n",
    "| 5 - 1      | 4      |\n",
    "| 2 * 4      | 8      |\n",
    "| 10 / 2     | 5      |\n",
    "| 7 % 3      | 1      |\n",
    "| 9 // 2     | 4      |\n",
    "| 3 ** 2     | 9      |\n",
    "\"\"\"\n",
    "display(Markdown(arithmetic_examples))"
   ]
  },
  {
   "cell_type": "code",
   "execution_count": 28,
   "id": "cca2ed22-bad5-4a78-8f9f-63200a65766e",
   "metadata": {
    "tags": []
   },
   "outputs": [
    {
     "name": "stdout",
     "output_type": "stream",
     "text": [
      "17\n"
     ]
    }
   ],
   "source": [
    "# This is a simple arithmetic expression to multiply then add integers\n",
    "result = (3 * 4) + 5\n",
    "print(result)"
   ]
  },
  {
   "cell_type": "code",
   "execution_count": 29,
   "id": "e663d000-9568-4ae2-b68d-7d8d599f832b",
   "metadata": {
    "tags": []
   },
   "outputs": [
    {
     "name": "stdout",
     "output_type": "stream",
     "text": [
      "3.3333333333333335\n"
     ]
    }
   ],
   "source": [
    "# This will convert 200 minutes to hours by dividing by 60\n",
    "hours = 200 / 60\n",
    "print(hours)"
   ]
  },
  {
   "cell_type": "code",
   "execution_count": 30,
   "id": "dde46b9c-484c-44d3-9d31-a27ecd936866",
   "metadata": {
    "tags": []
   },
   "outputs": [
    {
     "data": {
      "text/markdown": [
       "\n",
       "**Objectives:**\n",
       "\n",
       "- List popular languages for Data Science.\n",
       "- Understand the role of libraries in data science.\n",
       "- Learn to create markdown cells to display information.\n",
       "- Convert units of time from minutes to hours.\n",
       "- Evaluate arithmetic expressions in Python.\n"
      ],
      "text/plain": [
       "<IPython.core.display.Markdown object>"
      ]
     },
     "metadata": {},
     "output_type": "display_data"
    }
   ],
   "source": [
    "from IPython.display import display, Markdown\n",
    "objectives = \"\"\"\n",
    "**Objectives:**\n",
    "\n",
    "- List popular languages for Data Science.\n",
    "- Understand the role of libraries in data science.\n",
    "- Learn to create markdown cells to display information.\n",
    "- Convert units of time from minutes to hours.\n",
    "- Evaluate arithmetic expressions in Python.\n",
    "\"\"\"\n",
    "display(Markdown(objectives))"
   ]
  },
  {
   "cell_type": "code",
   "execution_count": 31,
   "id": "3fc4bb65-49fa-4e4d-a36b-717d936c5abe",
   "metadata": {
    "tags": []
   },
   "outputs": [
    {
     "data": {
      "text/markdown": [
       "\n",
       "## Author\n",
       "Wulei\n"
      ],
      "text/plain": [
       "<IPython.core.display.Markdown object>"
      ]
     },
     "metadata": {},
     "output_type": "display_data"
    }
   ],
   "source": [
    "from IPython.display import display, Markdown\n",
    "author_cell = \"\"\"\n",
    "## Author\n",
    "Wulei\n",
    "\"\"\"\n",
    "display(Markdown(author_cell))"
   ]
  },
  {
   "cell_type": "code",
   "execution_count": null,
   "id": "827157b9-3356-4858-b432-7af38ce36f94",
   "metadata": {},
   "outputs": [],
   "source": []
  }
 ],
 "metadata": {
  "kernelspec": {
   "display_name": "Python",
   "language": "python",
   "name": "conda-env-python-py"
  },
  "language_info": {
   "codemirror_mode": {
    "name": "ipython",
    "version": 3
   },
   "file_extension": ".py",
   "mimetype": "text/x-python",
   "name": "python",
   "nbconvert_exporter": "python",
   "pygments_lexer": "ipython3",
   "version": "3.7.12"
  }
 },
 "nbformat": 4,
 "nbformat_minor": 5
}
